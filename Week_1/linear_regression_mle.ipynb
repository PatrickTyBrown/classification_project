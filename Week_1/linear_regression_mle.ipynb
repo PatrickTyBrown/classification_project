{
 "cells": [
  {
   "cell_type": "code",
   "execution_count": 1,
   "metadata": {},
   "outputs": [],
   "source": [
    "import numpy as np\n",
    "import matplotlib.pyplot as plt\n",
    "import seaborn as sns\n",
    "plt.style.use('fivethirtyeight')\n",
    "\n",
    "%matplotlib inline"
   ]
  },
  {
   "cell_type": "markdown",
   "metadata": {},
   "source": [
    "Let's generate some fake data for linear regression:"
   ]
  },
  {
   "cell_type": "code",
   "execution_count": 2,
   "metadata": {},
   "outputs": [
    {
     "data": {
      "image/png": "[encoded data removed]",
      "text/plain": [
       "<matplotlib.figure.Figure at 0x1a1fd98a90>"
      ]
     },
     "metadata": {
      "needs_background": "light"
     },
     "output_type": "display_data"
    }
   ],
   "source": [
    "x = np.arange(-20,20)\n",
    "y = 0.3 * x + np.random.randn(40)\n",
    "plt.scatter(x,y);"
   ]
  },
  {
   "cell_type": "markdown",
   "metadata": {},
   "source": [
    "For simplicity, let's assume we know the intercept (zero) and noise distribution (standard normal). Our goal is just to find the slope. So for the $n$th point, we have\n",
    "\n",
    "$$\n",
    "y_n \\sim \\mathcal{N}(\\beta x_n, 1)\n",
    "$$,\n",
    "\n",
    "which visually looks like the below (with 3 points / conditional distributions highlighted):\n",
    "\n",
    "![linear_conditionals](linear_conditionals.png)"
   ]
  },
  {
   "cell_type": "markdown",
   "metadata": {},
   "source": [
    "Let's assume the $y$ values are independent. By the MLE framework's approach, the parameter $\\beta$ is assumed to be unknown, but fixed. So the probability of the observation is just"
   ]
  },
  {
   "cell_type": "markdown",
   "metadata": {},
   "source": [
    "$$\n",
    "P\\left(y\\ |\\ \\beta\\right)\t\n",
    "= \\prod_{N\\text{ points}} P(y_n\\ |\\ \\beta)\n",
    "=\\prod_{N\\text{ points}}\\mathcal{N}\\left(y_{n}\\ |\\ \\beta x_{n},1\\right)\n",
    "\t=\\prod_{N\\text{ points}}\\left(\\frac{1}{\\sqrt{2\\pi}}\\exp\\left\\{ \\frac{-\\left(y_{n}-\\beta x_{n}\\right)^2}{2}\\right\\} \\right)\n",
    "    $$"
   ]
  },
  {
   "cell_type": "markdown",
   "metadata": {},
   "source": [
    "We've been considering this as a function of $y$, but since we've observed data, we're really more interested in it as a function of $\\beta$. This is the *likelihood*, \n",
    "\n",
    "$$\n",
    "\\mathcal{L}(\\beta|y) = P(y|\\beta)\n",
    "$$\n",
    "\n",
    "We're interesting in the *maximum likelihood estimate*, which estimates the parameter by maximizing the likelihood function. In other words, **finding the value of the parameter with the highest probability of generating the data we did, in fact, observe**.\n",
    "\n",
    "So combining what we have to this point, we'd like to estimate $\\beta$ by finding the value that maximizes the likelihood,\n",
    "\n",
    "$$\n",
    "\\mathcal{L}(\\beta|y) = \\prod_{N\\text{ points}}\\left(\\frac{1}{\\sqrt{2\\pi}}\\exp\\left\\{ \\frac{-\\left(y_{n}-\\beta x_{n}\\right)^2}{2}\\right\\} \\right)\n",
    "$$"
   ]
  },
  {
   "cell_type": "markdown",
   "metadata": {},
   "source": [
    "So far, so good. What's a good way to maximize things? There are lots, but here it will probably be quickest to work in terms of derivatives. But differentiating a product is a mess. Do we really have to do it this way? Spoiler: no."
   ]
  },
  {
   "cell_type": "markdown",
   "metadata": {},
   "source": [
    "It would be so much easier to work in terms of a sum, instead of a product. Then the derivative would be easy - we could just calculate term by term.\n",
    "\n",
    "But we *can* work in terms of a sum! We can simply exploit the fact that **maximizing a value is equivalent to maximizing the log of that value**. Let's just take the log of both sides:\n",
    "\n",
    "\n",
    "\\begin{align*}\n",
    "\\log \\mathcal{L}(\\beta|y) \n",
    "&= \\log \\prod_{N\\text{ points}}\\left(\\frac{1}{\\sqrt{2\\pi}}\\exp\\left\\{ \\frac{-\\left(y_{n}-\\beta x_{n}\\right)^2}{2}\\right\\} \\right) \n",
    "\\\\ &= \\sum_{N\\text{ points}} \\log \\left(\\frac{1}{\\sqrt{2\\pi}}\\exp\\left\\{ \\frac{-\\left(y_{n}-\\beta x_{n}\\right)^2}{2}\\right\\} \\right) \n",
    "\\\\ &= \\sum_{N\\text{ points}} \\left[ \\log \\frac{1}{\\sqrt{2\\pi}} - \\frac{\\left(y_{n}-\\beta x_{n}\\right)^2}{2} \\right]\n",
    "\\\\ &= C - \\frac{1}{2}\\sum_{N\\text{ points}} \\left(y_{n}-\\beta x_{n}\\right)^2\n",
    "\\end{align*}\n"
   ]
  },
  {
   "cell_type": "markdown",
   "metadata": {},
   "source": [
    "Ok, time for the big reveal. Look at that line. To maximize that, we want to **minimize the negative quantity**. \n",
    "\n",
    "**I.e. for a normal linear regression model, maximizing likelihood is the same as minimizing $\\sum_{N\\text{ points}} \\left(y_{n}-\\beta x_{n}\\right)^2$**, the SSE loss that we know and love."
   ]
  },
  {
   "cell_type": "code",
   "execution_count": null,
   "metadata": {},
   "outputs": [],
   "source": []
  }
 ],
 "metadata": {
  "kernelspec": {
   "display_name": "Python 3",
   "language": "python",
   "name": "python3"
  },
  "language_info": {
   "codemirror_mode": {
    "name": "ipython",
    "version": 3
   },
   "file_extension": ".py",
   "mimetype": "text/x-python",
   "name": "python",
   "nbconvert_exporter": "python",
   "pygments_lexer": "ipython3",
   "version": "3.6.2"
  }
 },
 "nbformat": 4,
 "nbformat_minor": 2
}
