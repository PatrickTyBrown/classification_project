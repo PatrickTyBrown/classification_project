{
 "cells": [
  {
   "cell_type": "code",
   "execution_count": 1,
   "metadata": {
    "ExecuteTime": {
     "end_time": "2021-02-23T21:30:48.232264Z",
     "start_time": "2021-02-23T21:30:48.228889Z"
    }
   },
   "outputs": [],
   "source": [
    "# install mlxtend if you haven't already\n",
    "\n",
    "# ! conda install -y mlxtend"
   ]
  },
  {
   "cell_type": "code",
   "execution_count": 2,
   "metadata": {
    "ExecuteTime": {
     "end_time": "2021-02-23T21:30:49.610297Z",
     "start_time": "2021-02-23T21:30:48.237217Z"
    }
   },
   "outputs": [],
   "source": [
    "#######################\n",
    "#       imports       #\n",
    "#######################\n",
    "import pandas as pd\n",
    "import seaborn as sns\n",
    "from matplotlib import pyplot as plt\n",
    "import pickle\n",
    "\n",
    "from sklearn.model_selection import train_test_split\n",
    "from sklearn.metrics import accuracy_score\n",
    "\n",
    "from sklearn.neighbors import KNeighborsClassifier\n",
    "from sklearn.linear_model import LogisticRegression\n",
    "from sklearn.tree import DecisionTreeClassifier\n",
    "from sklearn.ensemble import RandomForestClassifier, ExtraTreesClassifier, VotingClassifier\n",
    "\n",
    "from mlxtend.classifier import StackingClassifier # <-- note: this is not from sklearn!\n",
    "\n",
    "sns.set_style(\"whitegrid\")"
   ]
  },
  {
   "cell_type": "markdown",
   "metadata": {},
   "source": [
    "# Ensemble Methods"
   ]
  },
  {
   "cell_type": "markdown",
   "metadata": {},
   "source": [
    "In the previous section we talked about Bagging and how it reduces variance. But there are many more types of ensemble models. The Bagging classifier, allows us to look at the same data through the lens of many bootstrapped samples... But, we're only able to use one classifier to train each bootstrapped sample.\n",
    "\n",
    "This begs the question: **Can we apply the same logic from bagging to use not just one model, but many different kinds of models as well?**\n",
    "\n",
    "Fortunately, the answer is **yes** and this section will provide how we can use this \"best-of-breed\" approach to build different ensemble models."
   ]
  },
  {
   "cell_type": "markdown",
   "metadata": {},
   "source": [
    "# Voting Classifier"
   ]
  },
  {
   "cell_type": "markdown",
   "metadata": {},
   "source": [
    "One of the most common ensemble models is the Voting Classifier. It does what its name implies, looks at the votes of the pre-trained algorithms and gives an output.\n",
    "\n",
    "<img src=\"images/ensemble.png\" alt=\"\" width=\"500\" height=\"600\"/>\n",
    "\n",
    "There are 3 different flavors for voting classifier which we will discuss.\n",
    "\n",
    "- Max Voting\n",
    "- Average Voting\n",
    "- Weighted Voting\n",
    "\n",
    "But, before we get into all the fun stuff, let's load some data and pre-trained models."
   ]
  },
  {
   "cell_type": "code",
   "execution_count": 3,
   "metadata": {
    "ExecuteTime": {
     "end_time": "2021-02-23T21:31:36.100402Z",
     "start_time": "2021-02-23T21:31:36.087509Z"
    }
   },
   "outputs": [],
   "source": [
    "df = pd.read_csv('data/dataframe.csv')"
   ]
  },
  {
   "cell_type": "code",
   "execution_count": 4,
   "metadata": {},
   "outputs": [
    {
     "data": {
      "text/html": [
       "<div>\n",
       "<style scoped>\n",
       "    .dataframe tbody tr th:only-of-type {\n",
       "        vertical-align: middle;\n",
       "    }\n",
       "\n",
       "    .dataframe tbody tr th {\n",
       "        vertical-align: top;\n",
       "    }\n",
       "\n",
       "    .dataframe thead th {\n",
       "        text-align: right;\n",
       "    }\n",
       "</style>\n",
       "<table border=\"1\" class=\"dataframe\">\n",
       "  <thead>\n",
       "    <tr style=\"text-align: right;\">\n",
       "      <th></th>\n",
       "      <th>column1</th>\n",
       "      <th>column2</th>\n",
       "      <th>label</th>\n",
       "    </tr>\n",
       "  </thead>\n",
       "  <tbody>\n",
       "    <tr>\n",
       "      <th>0</th>\n",
       "      <td>0.987480</td>\n",
       "      <td>-0.727508</td>\n",
       "      <td>0</td>\n",
       "    </tr>\n",
       "    <tr>\n",
       "      <th>1</th>\n",
       "      <td>0.099604</td>\n",
       "      <td>-0.448483</td>\n",
       "      <td>0</td>\n",
       "    </tr>\n",
       "    <tr>\n",
       "      <th>2</th>\n",
       "      <td>0.376760</td>\n",
       "      <td>-0.414582</td>\n",
       "      <td>0</td>\n",
       "    </tr>\n",
       "    <tr>\n",
       "      <th>3</th>\n",
       "      <td>-1.068057</td>\n",
       "      <td>-0.163531</td>\n",
       "      <td>1</td>\n",
       "    </tr>\n",
       "    <tr>\n",
       "      <th>4</th>\n",
       "      <td>2.615004</td>\n",
       "      <td>0.125934</td>\n",
       "      <td>1</td>\n",
       "    </tr>\n",
       "  </tbody>\n",
       "</table>\n",
       "</div>"
      ],
      "text/plain": [
       "    column1   column2  label\n",
       "0  0.987480 -0.727508      0\n",
       "1  0.099604 -0.448483      0\n",
       "2  0.376760 -0.414582      0\n",
       "3 -1.068057 -0.163531      1\n",
       "4  2.615004  0.125934      1"
      ]
     },
     "execution_count": 4,
     "metadata": {},
     "output_type": "execute_result"
    }
   ],
   "source": [
    "df.head()"
   ]
  },
  {
   "cell_type": "code",
   "execution_count": 5,
   "metadata": {
    "ExecuteTime": {
     "end_time": "2021-02-23T21:31:36.648277Z",
     "start_time": "2021-02-23T21:31:36.109869Z"
    }
   },
   "outputs": [
    {
     "data": {
      "image/png": "[encoded data removed]",
      "text/plain": [
       "<Figure size 432x288 with 1 Axes>"
      ]
     },
     "metadata": {},
     "output_type": "display_data"
    }
   ],
   "source": [
    "sns.scatterplot(x='column1', y='column2', data=df, hue='label',\n",
    "           palette='colorblind', alpha=.2);"
   ]
  },
  {
   "cell_type": "code",
   "execution_count": 6,
   "metadata": {
    "ExecuteTime": {
     "end_time": "2021-02-23T21:31:36.654794Z",
     "start_time": "2021-02-23T21:31:36.649602Z"
    }
   },
   "outputs": [],
   "source": [
    "X_train, X_test, y_train, y_test = train_test_split(df.drop('label', axis=1), \n",
    "                                                    df.label, \n",
    "                                                    random_state=123\n",
    "                                                   )"
   ]
  },
  {
   "cell_type": "code",
   "execution_count": 7,
   "metadata": {
    "ExecuteTime": {
     "end_time": "2021-02-23T21:31:36.718142Z",
     "start_time": "2021-02-23T21:31:36.656284Z"
    }
   },
   "outputs": [],
   "source": [
    "# Load pre-trained/tuned models\n",
    "\n",
    "model_names = [\"lr_model\", \"knn_model\", \"rf_model\", \"et_model\"]\n",
    "\n",
    "for model_name in model_names:\n",
    "    with open(f\"models/{model_name}.pickle\", \"rb\") as pfile:\n",
    "        exec(f\"{model_name} = pickle.load(pfile)\")\n",
    "\n",
    "model_vars = [eval(n) for n in model_names]\n",
    "model_list = list(zip(model_names, model_vars))"
   ]
  },
  {
   "cell_type": "code",
   "execution_count": 8,
   "metadata": {},
   "outputs": [
    {
     "data": {
      "text/plain": [
       "[('lr_model', LogisticRegression(random_state=1)),\n",
       " ('knn_model', KNeighborsClassifier()),\n",
       " ('rf_model', RandomForestClassifier(random_state=1)),\n",
       " ('et_model', ExtraTreesClassifier(random_state=1))]"
      ]
     },
     "execution_count": 8,
     "metadata": {},
     "output_type": "execute_result"
    }
   ],
   "source": [
    "model_list"
   ]
  },
  {
   "cell_type": "code",
   "execution_count": 9,
   "metadata": {
    "ExecuteTime": {
     "end_time": "2021-02-23T21:31:36.827881Z",
     "start_time": "2021-02-23T21:31:36.720095Z"
    }
   },
   "outputs": [
    {
     "name": "stdout",
     "output_type": "stream",
     "text": [
      "lr_model score: 0.7976\n",
      "knn_model score: 0.8112\n",
      "rf_model score: 0.8136\n",
      "et_model score: 0.8064\n"
     ]
    }
   ],
   "source": [
    "# Quick peek at each model performance\n",
    "\n",
    "for model_name in model_names:\n",
    "    curr_model = eval(model_name)\n",
    "    print(f'{model_name} score: {curr_model.score(X_test, y_test)}')"
   ]
  },
  {
   "cell_type": "markdown",
   "metadata": {},
   "source": [
    "## Max Voting\n",
    "\n",
    "The basic assumption for the max voting algorithm is easy: Take the class that has the largest number of predictions for each model.\n",
    "\n",
    "**Classifier 1 -> Class 0**\n",
    "\n",
    "**Classifier 2 -> Class 1**\n",
    "\n",
    "**Classifier 3 -> Class 1**\n",
    "\n",
    "In the example above, our max voting method would choose class 1."
   ]
  },
  {
   "cell_type": "code",
   "execution_count": 10,
   "metadata": {
    "ExecuteTime": {
     "end_time": "2021-02-23T21:31:42.744455Z",
     "start_time": "2021-02-23T21:31:41.921130Z"
    }
   },
   "outputs": [
    {
     "data": {
      "text/plain": [
       "VotingClassifier(estimators=[('lr_model', LogisticRegression(random_state=1)),\n",
       "                             ('knn_model', KNeighborsClassifier()),\n",
       "                             ('rf_model',\n",
       "                              RandomForestClassifier(random_state=1)),\n",
       "                             ('et_model',\n",
       "                              ExtraTreesClassifier(random_state=1))],\n",
       "                 n_jobs=-1)"
      ]
     },
     "execution_count": 10,
     "metadata": {},
     "output_type": "execute_result"
    }
   ],
   "source": [
    "# create voting classifier\n",
    "voting_classifer = VotingClassifier(estimators=model_list,\n",
    "                                    voting='hard', #<-- sklearn calls this hard voting\n",
    "                                    n_jobs=-1)\n",
    "voting_classifer.fit(X_train, y_train)"
   ]
  },
  {
   "cell_type": "code",
   "execution_count": 11,
   "metadata": {
    "ExecuteTime": {
     "end_time": "2021-02-23T21:31:48.814568Z",
     "start_time": "2021-02-23T21:31:48.684563Z"
    }
   },
   "outputs": [
    {
     "data": {
      "text/plain": [
       "0.816"
      ]
     },
     "execution_count": 11,
     "metadata": {},
     "output_type": "execute_result"
    }
   ],
   "source": [
    "# get accuracy (model to beat: RF with 0.8136 accuracy)\n",
    "y_pred = voting_classifer.predict(X_test)\n",
    "accuracy_score(y_test, y_pred)"
   ]
  },
  {
   "cell_type": "markdown",
   "metadata": {},
   "source": [
    "Not much of an improvement..."
   ]
  },
  {
   "cell_type": "markdown",
   "metadata": {},
   "source": [
    "## Average Voting"
   ]
  },
  {
   "cell_type": "markdown",
   "metadata": {},
   "source": [
    "In average voting (aka soft voting), we predict the class labels based on the predicted probabilities $p$ for classifier.\n",
    "\n",
    "Ultimately, the algorithm will decide which class has the highest sum of probabilities, i.e.,\n",
    "\n",
    "$$\\hat{y} = \\arg \\max_i \\sum_{j=1}^k p_{ij}$$\n",
    "\n",
    "where $i$ is the number of classes and $k$ is the number of models.\n",
    "\n"
   ]
  },
  {
   "cell_type": "markdown",
   "metadata": {},
   "source": [
    "In our example we are looking at a binary classification task with class labels $i \\in \\{0,1\\}$. Imagine our ensemble is making the following predictions:\n",
    "\n",
    "- $\\mathbf{C}_1(\\mathbf{x}) \\rightarrow [0.9, 0.1]$ \n",
    "- $\\mathbf{C}_2(\\mathbf{x}) \\rightarrow [0.8, 0.2]$\n",
    "- $\\mathbf{C}_3(\\mathbf{x}) \\rightarrow [0.4, 0.6]$ \n",
    "\n",
    "\n",
    "\n",
    "Using uniform weights, the average probabilities are the following:\n",
    "\n",
    "$$p(i_0 | \\mathbf{x}) = \\frac{0.9 + 0.8 + 0.4}{3} = 0.7 $$\n",
    "\n",
    "$$p(i_1 | \\mathbf{x}) = \\frac{0.1 + 0.2 + 0.6}{3} = 0.3 $$\n",
    "\n",
    "$$\\hat y = \\arg \\max_i [p(i_0 | \\mathbf{x}), p(i_1 | \\mathbf{x})] = \\arg \\max_i [0.7, 0.3] = 0 $$"
   ]
  },
  {
   "cell_type": "code",
   "execution_count": 12,
   "metadata": {
    "ExecuteTime": {
     "end_time": "2021-02-23T21:31:49.351836Z",
     "start_time": "2021-02-23T21:31:48.815999Z"
    }
   },
   "outputs": [
    {
     "data": {
      "text/plain": [
       "VotingClassifier(estimators=[('lr_model', LogisticRegression(random_state=1)),\n",
       "                             ('knn_model', KNeighborsClassifier()),\n",
       "                             ('rf_model',\n",
       "                              RandomForestClassifier(random_state=1)),\n",
       "                             ('et_model',\n",
       "                              ExtraTreesClassifier(random_state=1))],\n",
       "                 n_jobs=-1, voting='soft')"
      ]
     },
     "execution_count": 12,
     "metadata": {},
     "output_type": "execute_result"
    }
   ],
   "source": [
    "# create voting classifier\n",
    "voting_classifer = VotingClassifier(estimators=model_list,\n",
    "                                    voting='soft', #<-- sklearn calls this soft voting\n",
    "                                    n_jobs=-1)\n",
    "voting_classifer.fit(X_train, y_train)"
   ]
  },
  {
   "cell_type": "code",
   "execution_count": 13,
   "metadata": {
    "ExecuteTime": {
     "end_time": "2021-02-23T21:31:51.245096Z",
     "start_time": "2021-02-23T21:31:51.130730Z"
    }
   },
   "outputs": [
    {
     "data": {
      "text/plain": [
       "0.8152"
      ]
     },
     "execution_count": 13,
     "metadata": {},
     "output_type": "execute_result"
    }
   ],
   "source": [
    "# Get accuracy (model to beat: RF with 0.8136 accuracy)\n",
    "y_pred = voting_classifer.predict(X_test)\n",
    "accuracy_score(y_test, y_pred)"
   ]
  },
  {
   "cell_type": "markdown",
   "metadata": {},
   "source": [
    "Still not much of an improvement..."
   ]
  },
  {
   "cell_type": "markdown",
   "metadata": {},
   "source": [
    "# Weighted Voting"
   ]
  },
  {
   "cell_type": "markdown",
   "metadata": {},
   "source": [
    "As the name implies, we'll be assigning weights to each model to adjust its contribution to the final prediction. There will be times when you want to give additional weight to models that are performing better to increase the optimization metric.\n",
    "\n",
    "Mathematically speaking, there is very little change to the Average Voting method we just saw. All we do is add a weight to each probability, i.e.,\n",
    "\n",
    "$$\\hat{y} = \\arg \\max_i \\sum_{j=1}^k w_j p_{ij}$$\n",
    "\n",
    "where $i$ is the number of classes, $w_j$ is the model weight, and $k$ is the number of models.\n"
   ]
  },
  {
   "cell_type": "markdown",
   "metadata": {},
   "source": [
    "Imagine our ensemble is making the same predictions as before:\n",
    "\n",
    "- $\\mathbf{C}_1(\\mathbf{x}) \\rightarrow [0.9, 0.1]$ \n",
    "- $\\mathbf{C}_2(\\mathbf{x}) \\rightarrow [0.8, 0.2]$\n",
    "- $\\mathbf{C}_3(\\mathbf{x}) \\rightarrow [0.4, 0.6]$ \n",
    "\n",
    "\n",
    "\n",
    "Using weights for each model with value $\\{0.1, 0.1, 0.8\\}$, the results are the following:\n",
    "\n",
    "$$p(i_0 | \\mathbf{x}) = 0.1*0.9 + 0.1*0.8 + 0.8*0.4 = 0.49 $$\n",
    "\n",
    "$$p(i_1 | \\mathbf{x}) = 0.1*0.1 + 0.1*0.2 + 0.8*0.6 = 0.51 $$\n",
    "\n",
    "$$\\hat y = \\arg \\max_i [p(i_0 | \\mathbf{x}), p(i_1 | \\mathbf{x})] = \\arg \\max_i [0.49, 0.51] = 1 $$"
   ]
  },
  {
   "cell_type": "code",
   "execution_count": 14,
   "metadata": {
    "ExecuteTime": {
     "end_time": "2021-02-23T21:31:52.000625Z",
     "start_time": "2021-02-23T21:31:51.249226Z"
    }
   },
   "outputs": [
    {
     "data": {
      "text/plain": [
       "VotingClassifier(estimators=[('lr_model', LogisticRegression(random_state=1)),\n",
       "                             ('knn_model', KNeighborsClassifier()),\n",
       "                             ('rf_model',\n",
       "                              RandomForestClassifier(random_state=1)),\n",
       "                             ('et_model',\n",
       "                              ExtraTreesClassifier(random_state=1))],\n",
       "                 n_jobs=-1, voting='soft', weights=[1.5, 3.8, 4.2, 2.2])"
      ]
     },
     "execution_count": 14,
     "metadata": {},
     "output_type": "execute_result"
    }
   ],
   "source": [
    "# create voting classifier\n",
    "weights = [1.5,3.8,4.2,2.2]\n",
    "voting_model = VotingClassifier(estimators=model_list,\n",
    "                                    voting='soft', \n",
    "                                    weights = weights,  #include weights\n",
    "                                    n_jobs=-1)\n",
    "voting_model.fit(X_train, y_train)"
   ]
  },
  {
   "cell_type": "code",
   "execution_count": 15,
   "metadata": {
    "ExecuteTime": {
     "end_time": "2021-02-23T21:31:54.195905Z",
     "start_time": "2021-02-23T21:31:54.067059Z"
    }
   },
   "outputs": [
    {
     "data": {
      "text/plain": [
       "0.8168"
      ]
     },
     "execution_count": 15,
     "metadata": {},
     "output_type": "execute_result"
    }
   ],
   "source": [
    "# Get accuracy (model to beat: RF with 0.8136 accuracy)\n",
    "y_pred = voting_model.predict(X_test)\n",
    "accuracy_score(y_test, y_pred)"
   ]
  },
  {
   "cell_type": "markdown",
   "metadata": {},
   "source": [
    "## Tuning weights\n",
    "\n",
    "In general, tuning the weights for the ensemble classifier is not easy. There is no built-in method to tune or even an educated guess as to where we begin our search. If this were a regression problem, we can take all of the outputs from each of the classifiers and pass them through an OLS model to tune each weight.\n",
    "\n",
    "In our case, we have a classification problem which makes determining the right coefficients a little more difficult to do. One method is to use a **stacking classifier**."
   ]
  },
  {
   "cell_type": "markdown",
   "metadata": {},
   "source": [
    "# Stacking Classifier"
   ]
  },
  {
   "cell_type": "markdown",
   "metadata": {},
   "source": [
    "Stacking is an ensemble learning technique to combine multiple classification models via a meta-classifier. \n",
    "\n",
    "The individual classification models are trained based on the complete training set; then, the meta-classifier is fitted based on the outputs -- meta-features -- of the individual classification models in the ensemble. \n",
    "\n",
    "The meta-classifier can either be trained on the predicted class labels or probabilities from the ensemble.\n",
    "\n",
    "The major difference between the Stacked Classifier and the Voting classifier, is that it uses the outputs of the previous models as features in the meta-classifier to make new predictions."
   ]
  },
  {
   "cell_type": "markdown",
   "metadata": {},
   "source": [
    "<img src=\"images/stacked.png\" alt=\"\" width=\"500\" height=\"600\"/>"
   ]
  },
  {
   "cell_type": "code",
   "execution_count": 16,
   "metadata": {
    "ExecuteTime": {
     "end_time": "2021-02-23T21:32:38.695538Z",
     "start_time": "2021-02-23T21:32:38.691321Z"
    }
   },
   "outputs": [],
   "source": [
    "stacked = StackingClassifier(\n",
    "    classifiers=model_vars, meta_classifier=LogisticRegression(), use_probas=False)"
   ]
  },
  {
   "cell_type": "code",
   "execution_count": 17,
   "metadata": {
    "ExecuteTime": {
     "end_time": "2021-02-23T21:32:40.810039Z",
     "start_time": "2021-02-23T21:32:39.869477Z"
    }
   },
   "outputs": [
    {
     "data": {
      "text/plain": [
       "StackingClassifier(classifiers=[LogisticRegression(random_state=1),\n",
       "                                KNeighborsClassifier(),\n",
       "                                RandomForestClassifier(random_state=1),\n",
       "                                ExtraTreesClassifier(random_state=1)],\n",
       "                   meta_classifier=LogisticRegression())"
      ]
     },
     "execution_count": 17,
     "metadata": {},
     "output_type": "execute_result"
    }
   ],
   "source": [
    "stacked.fit(X_train, y_train)"
   ]
  },
  {
   "cell_type": "code",
   "execution_count": 18,
   "metadata": {
    "ExecuteTime": {
     "end_time": "2021-02-23T21:32:46.682234Z",
     "start_time": "2021-02-23T21:32:46.558530Z"
    }
   },
   "outputs": [
    {
     "data": {
      "text/plain": [
       "0.8136"
      ]
     },
     "execution_count": 18,
     "metadata": {},
     "output_type": "execute_result"
    }
   ],
   "source": [
    "y_pred = stacked.predict(X_test)\n",
    "accuracy_score(y_test, y_pred)"
   ]
  },
  {
   "cell_type": "markdown",
   "metadata": {},
   "source": [
    "The StackingClassifier didn't give us a marked improvement this time, but for some datasets it will.  We can also further tune the hyperparameters of the individual models or the meta-classifier."
   ]
  },
  {
   "cell_type": "markdown",
   "metadata": {},
   "source": [
    "# Recap\n",
    "\n",
    "In this lesson we covered the different techniques available to ensemble models in sklearn. \n",
    "\n",
    "Things to note:\n",
    "- Regarding voting:\n",
    "    - Max Voting returns the most common class out of the classifiers (similar to how KNN works)\n",
    "    - Average Voting returns the most likely class given all of the probabilities \n",
    "    - Weighted Voting returns the most likely class given the weighted sum of probabilities/hard classes\n",
    "- Finding the optimal weights to Weighted Voting can be difficult to achieve\n",
    "- Stacked Classifiers use the outputs of the models as features into the meta-classifier\n",
    "\n",
    "## Pros/Cons of Ensemble Methods\n",
    "\n",
    "**Pros:**\n",
    "- Reduces variance\n",
    "- (generally) better model performance\n",
    "\n",
    "**Cons:**\n",
    "- Loss of model interpretability\n",
    "- Computationally expensive"
   ]
  },
  {
   "cell_type": "markdown",
   "metadata": {},
   "source": [
    "# Resources\n",
    "- More about [bagging and boosting](http://www.mit.edu/~9.520/spring06/Classes/class10.pdf)\n",
    "- [StackedClassifier documentation](http://rasbt.github.io/mlxtend/user_guide/classifier/StackingClassifier/)\n"
   ]
  },
  {
   "cell_type": "code",
   "execution_count": null,
   "metadata": {},
   "outputs": [],
   "source": []
  }
 ],
 "metadata": {
  "kernelspec": {
   "display_name": "Python 3.10.5 ('classification')",
   "language": "python",
   "name": "python3"
  },
  "language_info": {
   "codemirror_mode": {
    "name": "ipython",
    "version": 3
   },
   "file_extension": ".py",
   "mimetype": "text/x-python",
   "name": "python",
   "nbconvert_exporter": "python",
   "pygments_lexer": "ipython3",
   "version": "3.10.5"
  },
  "toc": {
   "base_numbering": 1,
   "nav_menu": {},
   "number_sections": true,
   "sideBar": true,
   "skip_h1_title": false,
   "title_cell": "Table of Contents",
   "title_sidebar": "Contents",
   "toc_cell": false,
   "toc_position": {},
   "toc_section_display": true,
   "toc_window_display": false
  },
  "vscode": {
   "interpreter": {
    "hash": "5f0e1bddb7ed37f67f576e4a6a21b2408ebab9a006050dc6d038d31036c144c3"
   }
  }
 },
 "nbformat": 4,
 "nbformat_minor": 2
}
